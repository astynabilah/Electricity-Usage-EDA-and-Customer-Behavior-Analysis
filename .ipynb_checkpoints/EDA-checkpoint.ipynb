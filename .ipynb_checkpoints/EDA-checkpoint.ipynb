{
 "cells": [
  {
   "cell_type": "markdown",
   "id": "f71fc614",
   "metadata": {},
   "source": [
    "# Import Libraries"
   ]
  },
  {
   "cell_type": "code",
   "execution_count": 28,
   "id": "2f9334ff",
   "metadata": {},
   "outputs": [],
   "source": [
    "import numpy as np\n",
    "import pandas as pd\n",
    "import seaborn as sns"
   ]
  },
  {
   "cell_type": "markdown",
   "id": "c952074b",
   "metadata": {},
   "source": [
    "# Read Data\n",
    "\n",
    "Data source: https://www.kaggle.com/datasets/jaganadhg/house-hold-energy-data"
   ]
  },
  {
   "cell_type": "code",
   "execution_count": 2,
   "id": "89ad568b",
   "metadata": {},
   "outputs": [],
   "source": [
    "df = pd.read_csv('D202.csv')"
   ]
  },
  {
   "cell_type": "code",
   "execution_count": 3,
   "id": "e1d729da",
   "metadata": {
    "scrolled": true
   },
   "outputs": [
    {
     "data": {
      "text/html": [
       "<div>\n",
       "<style scoped>\n",
       "    .dataframe tbody tr th:only-of-type {\n",
       "        vertical-align: middle;\n",
       "    }\n",
       "\n",
       "    .dataframe tbody tr th {\n",
       "        vertical-align: top;\n",
       "    }\n",
       "\n",
       "    .dataframe thead th {\n",
       "        text-align: right;\n",
       "    }\n",
       "</style>\n",
       "<table border=\"1\" class=\"dataframe\">\n",
       "  <thead>\n",
       "    <tr style=\"text-align: right;\">\n",
       "      <th></th>\n",
       "      <th>TYPE</th>\n",
       "      <th>DATE</th>\n",
       "      <th>START TIME</th>\n",
       "      <th>END TIME</th>\n",
       "      <th>USAGE</th>\n",
       "      <th>UNITS</th>\n",
       "      <th>COST</th>\n",
       "      <th>NOTES</th>\n",
       "    </tr>\n",
       "  </thead>\n",
       "  <tbody>\n",
       "    <tr>\n",
       "      <th>0</th>\n",
       "      <td>Electric usage</td>\n",
       "      <td>10/22/2016</td>\n",
       "      <td>0:00</td>\n",
       "      <td>0:14</td>\n",
       "      <td>0.01</td>\n",
       "      <td>kWh</td>\n",
       "      <td>$0.00</td>\n",
       "      <td>NaN</td>\n",
       "    </tr>\n",
       "    <tr>\n",
       "      <th>1</th>\n",
       "      <td>Electric usage</td>\n",
       "      <td>10/22/2016</td>\n",
       "      <td>0:15</td>\n",
       "      <td>0:29</td>\n",
       "      <td>0.01</td>\n",
       "      <td>kWh</td>\n",
       "      <td>$0.00</td>\n",
       "      <td>NaN</td>\n",
       "    </tr>\n",
       "    <tr>\n",
       "      <th>2</th>\n",
       "      <td>Electric usage</td>\n",
       "      <td>10/22/2016</td>\n",
       "      <td>0:30</td>\n",
       "      <td>0:44</td>\n",
       "      <td>0.01</td>\n",
       "      <td>kWh</td>\n",
       "      <td>$0.00</td>\n",
       "      <td>NaN</td>\n",
       "    </tr>\n",
       "    <tr>\n",
       "      <th>3</th>\n",
       "      <td>Electric usage</td>\n",
       "      <td>10/22/2016</td>\n",
       "      <td>0:45</td>\n",
       "      <td>0:59</td>\n",
       "      <td>0.01</td>\n",
       "      <td>kWh</td>\n",
       "      <td>$0.00</td>\n",
       "      <td>NaN</td>\n",
       "    </tr>\n",
       "    <tr>\n",
       "      <th>4</th>\n",
       "      <td>Electric usage</td>\n",
       "      <td>10/22/2016</td>\n",
       "      <td>1:00</td>\n",
       "      <td>1:14</td>\n",
       "      <td>0.01</td>\n",
       "      <td>kWh</td>\n",
       "      <td>$0.00</td>\n",
       "      <td>NaN</td>\n",
       "    </tr>\n",
       "  </tbody>\n",
       "</table>\n",
       "</div>"
      ],
      "text/plain": [
       "             TYPE        DATE START TIME END TIME  USAGE UNITS    COST  NOTES\n",
       "0  Electric usage  10/22/2016       0:00     0:14   0.01   kWh  $0.00     NaN\n",
       "1  Electric usage  10/22/2016       0:15     0:29   0.01   kWh  $0.00     NaN\n",
       "2  Electric usage  10/22/2016       0:30     0:44   0.01   kWh  $0.00     NaN\n",
       "3  Electric usage  10/22/2016       0:45     0:59   0.01   kWh  $0.00     NaN\n",
       "4  Electric usage  10/22/2016       1:00     1:14   0.01   kWh  $0.00     NaN"
      ]
     },
     "execution_count": 3,
     "metadata": {},
     "output_type": "execute_result"
    }
   ],
   "source": [
    "df.head()"
   ]
  },
  {
   "cell_type": "markdown",
   "id": "89aa1c07",
   "metadata": {},
   "source": [
    "# Seeing the number of unique values for each column"
   ]
  },
  {
   "cell_type": "code",
   "execution_count": 4,
   "id": "dfa68b1b",
   "metadata": {},
   "outputs": [
    {
     "data": {
      "text/plain": [
       "TYPE            1\n",
       "DATE          733\n",
       "START TIME     96\n",
       "END TIME       96\n",
       "USAGE         200\n",
       "UNITS           1\n",
       "COST           49\n",
       "NOTES           0\n",
       "dtype: int64"
      ]
     },
     "execution_count": 4,
     "metadata": {},
     "output_type": "execute_result"
    }
   ],
   "source": [
    "df.nunique()"
   ]
  },
  {
   "cell_type": "markdown",
   "id": "d22e969b",
   "metadata": {},
   "source": [
    "Since the values of TYPE and UNITS columns are all the same, we can delete them both "
   ]
  },
  {
   "cell_type": "code",
   "execution_count": 5,
   "id": "6accbbd7",
   "metadata": {},
   "outputs": [],
   "source": [
    "df = df.drop(columns=['TYPE','UNITS'])"
   ]
  },
  {
   "cell_type": "code",
   "execution_count": 6,
   "id": "9b71e167",
   "metadata": {
    "scrolled": true
   },
   "outputs": [
    {
     "data": {
      "text/html": [
       "<div>\n",
       "<style scoped>\n",
       "    .dataframe tbody tr th:only-of-type {\n",
       "        vertical-align: middle;\n",
       "    }\n",
       "\n",
       "    .dataframe tbody tr th {\n",
       "        vertical-align: top;\n",
       "    }\n",
       "\n",
       "    .dataframe thead th {\n",
       "        text-align: right;\n",
       "    }\n",
       "</style>\n",
       "<table border=\"1\" class=\"dataframe\">\n",
       "  <thead>\n",
       "    <tr style=\"text-align: right;\">\n",
       "      <th></th>\n",
       "      <th>DATE</th>\n",
       "      <th>START TIME</th>\n",
       "      <th>END TIME</th>\n",
       "      <th>USAGE</th>\n",
       "      <th>COST</th>\n",
       "      <th>NOTES</th>\n",
       "    </tr>\n",
       "  </thead>\n",
       "  <tbody>\n",
       "    <tr>\n",
       "      <th>0</th>\n",
       "      <td>10/22/2016</td>\n",
       "      <td>0:00</td>\n",
       "      <td>0:14</td>\n",
       "      <td>0.01</td>\n",
       "      <td>$0.00</td>\n",
       "      <td>NaN</td>\n",
       "    </tr>\n",
       "    <tr>\n",
       "      <th>1</th>\n",
       "      <td>10/22/2016</td>\n",
       "      <td>0:15</td>\n",
       "      <td>0:29</td>\n",
       "      <td>0.01</td>\n",
       "      <td>$0.00</td>\n",
       "      <td>NaN</td>\n",
       "    </tr>\n",
       "    <tr>\n",
       "      <th>2</th>\n",
       "      <td>10/22/2016</td>\n",
       "      <td>0:30</td>\n",
       "      <td>0:44</td>\n",
       "      <td>0.01</td>\n",
       "      <td>$0.00</td>\n",
       "      <td>NaN</td>\n",
       "    </tr>\n",
       "    <tr>\n",
       "      <th>3</th>\n",
       "      <td>10/22/2016</td>\n",
       "      <td>0:45</td>\n",
       "      <td>0:59</td>\n",
       "      <td>0.01</td>\n",
       "      <td>$0.00</td>\n",
       "      <td>NaN</td>\n",
       "    </tr>\n",
       "    <tr>\n",
       "      <th>4</th>\n",
       "      <td>10/22/2016</td>\n",
       "      <td>1:00</td>\n",
       "      <td>1:14</td>\n",
       "      <td>0.01</td>\n",
       "      <td>$0.00</td>\n",
       "      <td>NaN</td>\n",
       "    </tr>\n",
       "    <tr>\n",
       "      <th>...</th>\n",
       "      <td>...</td>\n",
       "      <td>...</td>\n",
       "      <td>...</td>\n",
       "      <td>...</td>\n",
       "      <td>...</td>\n",
       "      <td>...</td>\n",
       "    </tr>\n",
       "    <tr>\n",
       "      <th>70363</th>\n",
       "      <td>10/24/2018</td>\n",
       "      <td>22:45</td>\n",
       "      <td>22:59</td>\n",
       "      <td>0.02</td>\n",
       "      <td>$0.00</td>\n",
       "      <td>NaN</td>\n",
       "    </tr>\n",
       "    <tr>\n",
       "      <th>70364</th>\n",
       "      <td>10/24/2018</td>\n",
       "      <td>23:00</td>\n",
       "      <td>23:14</td>\n",
       "      <td>0.03</td>\n",
       "      <td>$0.01</td>\n",
       "      <td>NaN</td>\n",
       "    </tr>\n",
       "    <tr>\n",
       "      <th>70365</th>\n",
       "      <td>10/24/2018</td>\n",
       "      <td>23:15</td>\n",
       "      <td>23:29</td>\n",
       "      <td>0.03</td>\n",
       "      <td>$0.01</td>\n",
       "      <td>NaN</td>\n",
       "    </tr>\n",
       "    <tr>\n",
       "      <th>70366</th>\n",
       "      <td>10/24/2018</td>\n",
       "      <td>23:30</td>\n",
       "      <td>23:44</td>\n",
       "      <td>0.03</td>\n",
       "      <td>$0.01</td>\n",
       "      <td>NaN</td>\n",
       "    </tr>\n",
       "    <tr>\n",
       "      <th>70367</th>\n",
       "      <td>10/24/2018</td>\n",
       "      <td>23:45</td>\n",
       "      <td>23:59</td>\n",
       "      <td>0.03</td>\n",
       "      <td>$0.01</td>\n",
       "      <td>NaN</td>\n",
       "    </tr>\n",
       "  </tbody>\n",
       "</table>\n",
       "<p>70368 rows × 6 columns</p>\n",
       "</div>"
      ],
      "text/plain": [
       "             DATE START TIME END TIME  USAGE    COST  NOTES\n",
       "0      10/22/2016       0:00     0:14   0.01  $0.00     NaN\n",
       "1      10/22/2016       0:15     0:29   0.01  $0.00     NaN\n",
       "2      10/22/2016       0:30     0:44   0.01  $0.00     NaN\n",
       "3      10/22/2016       0:45     0:59   0.01  $0.00     NaN\n",
       "4      10/22/2016       1:00     1:14   0.01  $0.00     NaN\n",
       "...           ...        ...      ...    ...     ...    ...\n",
       "70363  10/24/2018      22:45    22:59   0.02  $0.00     NaN\n",
       "70364  10/24/2018      23:00    23:14   0.03  $0.01     NaN\n",
       "70365  10/24/2018      23:15    23:29   0.03  $0.01     NaN\n",
       "70366  10/24/2018      23:30    23:44   0.03  $0.01     NaN\n",
       "70367  10/24/2018      23:45    23:59   0.03  $0.01     NaN\n",
       "\n",
       "[70368 rows x 6 columns]"
      ]
     },
     "execution_count": 6,
     "metadata": {},
     "output_type": "execute_result"
    }
   ],
   "source": [
    "df"
   ]
  },
  {
   "cell_type": "markdown",
   "id": "9755f872",
   "metadata": {},
   "source": [
    "# Checking null values for each column"
   ]
  },
  {
   "cell_type": "code",
   "execution_count": 7,
   "id": "f21850f8",
   "metadata": {},
   "outputs": [
    {
     "data": {
      "text/plain": [
       "DATE              0\n",
       "START TIME        0\n",
       "END TIME          0\n",
       "USAGE             0\n",
       "COST              0\n",
       "NOTES         70368\n",
       "dtype: int64"
      ]
     },
     "execution_count": 7,
     "metadata": {},
     "output_type": "execute_result"
    }
   ],
   "source": [
    "df.isnull().sum()"
   ]
  },
  {
   "cell_type": "markdown",
   "id": "2f3b7973",
   "metadata": {},
   "source": [
    "Since the 'NOTES' column contains only null values, we can drop it."
   ]
  },
  {
   "cell_type": "code",
   "execution_count": 8,
   "id": "1a2602e7",
   "metadata": {},
   "outputs": [],
   "source": [
    "df = df.drop(columns=['NOTES'])"
   ]
  },
  {
   "cell_type": "code",
   "execution_count": 9,
   "id": "99180917",
   "metadata": {},
   "outputs": [
    {
     "data": {
      "text/html": [
       "<div>\n",
       "<style scoped>\n",
       "    .dataframe tbody tr th:only-of-type {\n",
       "        vertical-align: middle;\n",
       "    }\n",
       "\n",
       "    .dataframe tbody tr th {\n",
       "        vertical-align: top;\n",
       "    }\n",
       "\n",
       "    .dataframe thead th {\n",
       "        text-align: right;\n",
       "    }\n",
       "</style>\n",
       "<table border=\"1\" class=\"dataframe\">\n",
       "  <thead>\n",
       "    <tr style=\"text-align: right;\">\n",
       "      <th></th>\n",
       "      <th>DATE</th>\n",
       "      <th>START TIME</th>\n",
       "      <th>END TIME</th>\n",
       "      <th>USAGE</th>\n",
       "      <th>COST</th>\n",
       "    </tr>\n",
       "  </thead>\n",
       "  <tbody>\n",
       "    <tr>\n",
       "      <th>0</th>\n",
       "      <td>10/22/2016</td>\n",
       "      <td>0:00</td>\n",
       "      <td>0:14</td>\n",
       "      <td>0.01</td>\n",
       "      <td>$0.00</td>\n",
       "    </tr>\n",
       "    <tr>\n",
       "      <th>1</th>\n",
       "      <td>10/22/2016</td>\n",
       "      <td>0:15</td>\n",
       "      <td>0:29</td>\n",
       "      <td>0.01</td>\n",
       "      <td>$0.00</td>\n",
       "    </tr>\n",
       "    <tr>\n",
       "      <th>2</th>\n",
       "      <td>10/22/2016</td>\n",
       "      <td>0:30</td>\n",
       "      <td>0:44</td>\n",
       "      <td>0.01</td>\n",
       "      <td>$0.00</td>\n",
       "    </tr>\n",
       "    <tr>\n",
       "      <th>3</th>\n",
       "      <td>10/22/2016</td>\n",
       "      <td>0:45</td>\n",
       "      <td>0:59</td>\n",
       "      <td>0.01</td>\n",
       "      <td>$0.00</td>\n",
       "    </tr>\n",
       "    <tr>\n",
       "      <th>4</th>\n",
       "      <td>10/22/2016</td>\n",
       "      <td>1:00</td>\n",
       "      <td>1:14</td>\n",
       "      <td>0.01</td>\n",
       "      <td>$0.00</td>\n",
       "    </tr>\n",
       "    <tr>\n",
       "      <th>...</th>\n",
       "      <td>...</td>\n",
       "      <td>...</td>\n",
       "      <td>...</td>\n",
       "      <td>...</td>\n",
       "      <td>...</td>\n",
       "    </tr>\n",
       "    <tr>\n",
       "      <th>70363</th>\n",
       "      <td>10/24/2018</td>\n",
       "      <td>22:45</td>\n",
       "      <td>22:59</td>\n",
       "      <td>0.02</td>\n",
       "      <td>$0.00</td>\n",
       "    </tr>\n",
       "    <tr>\n",
       "      <th>70364</th>\n",
       "      <td>10/24/2018</td>\n",
       "      <td>23:00</td>\n",
       "      <td>23:14</td>\n",
       "      <td>0.03</td>\n",
       "      <td>$0.01</td>\n",
       "    </tr>\n",
       "    <tr>\n",
       "      <th>70365</th>\n",
       "      <td>10/24/2018</td>\n",
       "      <td>23:15</td>\n",
       "      <td>23:29</td>\n",
       "      <td>0.03</td>\n",
       "      <td>$0.01</td>\n",
       "    </tr>\n",
       "    <tr>\n",
       "      <th>70366</th>\n",
       "      <td>10/24/2018</td>\n",
       "      <td>23:30</td>\n",
       "      <td>23:44</td>\n",
       "      <td>0.03</td>\n",
       "      <td>$0.01</td>\n",
       "    </tr>\n",
       "    <tr>\n",
       "      <th>70367</th>\n",
       "      <td>10/24/2018</td>\n",
       "      <td>23:45</td>\n",
       "      <td>23:59</td>\n",
       "      <td>0.03</td>\n",
       "      <td>$0.01</td>\n",
       "    </tr>\n",
       "  </tbody>\n",
       "</table>\n",
       "<p>70368 rows × 5 columns</p>\n",
       "</div>"
      ],
      "text/plain": [
       "             DATE START TIME END TIME  USAGE    COST\n",
       "0      10/22/2016       0:00     0:14   0.01  $0.00 \n",
       "1      10/22/2016       0:15     0:29   0.01  $0.00 \n",
       "2      10/22/2016       0:30     0:44   0.01  $0.00 \n",
       "3      10/22/2016       0:45     0:59   0.01  $0.00 \n",
       "4      10/22/2016       1:00     1:14   0.01  $0.00 \n",
       "...           ...        ...      ...    ...     ...\n",
       "70363  10/24/2018      22:45    22:59   0.02  $0.00 \n",
       "70364  10/24/2018      23:00    23:14   0.03  $0.01 \n",
       "70365  10/24/2018      23:15    23:29   0.03  $0.01 \n",
       "70366  10/24/2018      23:30    23:44   0.03  $0.01 \n",
       "70367  10/24/2018      23:45    23:59   0.03  $0.01 \n",
       "\n",
       "[70368 rows x 5 columns]"
      ]
     },
     "execution_count": 9,
     "metadata": {},
     "output_type": "execute_result"
    }
   ],
   "source": [
    "df"
   ]
  },
  {
   "cell_type": "markdown",
   "id": "902aa503",
   "metadata": {},
   "source": [
    "# Remove dollar sign in COST column\n",
    "We want to take only the values"
   ]
  },
  {
   "cell_type": "code",
   "execution_count": 10,
   "id": "4af3ae0f",
   "metadata": {},
   "outputs": [],
   "source": [
    "df[\"COST\"] = df[\"COST\"].str.replace(\"$\", \"\", regex=False).astype(float)"
   ]
  },
  {
   "cell_type": "code",
   "execution_count": 11,
   "id": "a46566bf",
   "metadata": {
    "scrolled": true
   },
   "outputs": [
    {
     "data": {
      "text/html": [
       "<div>\n",
       "<style scoped>\n",
       "    .dataframe tbody tr th:only-of-type {\n",
       "        vertical-align: middle;\n",
       "    }\n",
       "\n",
       "    .dataframe tbody tr th {\n",
       "        vertical-align: top;\n",
       "    }\n",
       "\n",
       "    .dataframe thead th {\n",
       "        text-align: right;\n",
       "    }\n",
       "</style>\n",
       "<table border=\"1\" class=\"dataframe\">\n",
       "  <thead>\n",
       "    <tr style=\"text-align: right;\">\n",
       "      <th></th>\n",
       "      <th>DATE</th>\n",
       "      <th>START TIME</th>\n",
       "      <th>END TIME</th>\n",
       "      <th>USAGE</th>\n",
       "      <th>COST</th>\n",
       "    </tr>\n",
       "  </thead>\n",
       "  <tbody>\n",
       "    <tr>\n",
       "      <th>0</th>\n",
       "      <td>10/22/2016</td>\n",
       "      <td>0:00</td>\n",
       "      <td>0:14</td>\n",
       "      <td>0.01</td>\n",
       "      <td>0.00</td>\n",
       "    </tr>\n",
       "    <tr>\n",
       "      <th>1</th>\n",
       "      <td>10/22/2016</td>\n",
       "      <td>0:15</td>\n",
       "      <td>0:29</td>\n",
       "      <td>0.01</td>\n",
       "      <td>0.00</td>\n",
       "    </tr>\n",
       "    <tr>\n",
       "      <th>2</th>\n",
       "      <td>10/22/2016</td>\n",
       "      <td>0:30</td>\n",
       "      <td>0:44</td>\n",
       "      <td>0.01</td>\n",
       "      <td>0.00</td>\n",
       "    </tr>\n",
       "    <tr>\n",
       "      <th>3</th>\n",
       "      <td>10/22/2016</td>\n",
       "      <td>0:45</td>\n",
       "      <td>0:59</td>\n",
       "      <td>0.01</td>\n",
       "      <td>0.00</td>\n",
       "    </tr>\n",
       "    <tr>\n",
       "      <th>4</th>\n",
       "      <td>10/22/2016</td>\n",
       "      <td>1:00</td>\n",
       "      <td>1:14</td>\n",
       "      <td>0.01</td>\n",
       "      <td>0.00</td>\n",
       "    </tr>\n",
       "    <tr>\n",
       "      <th>...</th>\n",
       "      <td>...</td>\n",
       "      <td>...</td>\n",
       "      <td>...</td>\n",
       "      <td>...</td>\n",
       "      <td>...</td>\n",
       "    </tr>\n",
       "    <tr>\n",
       "      <th>70363</th>\n",
       "      <td>10/24/2018</td>\n",
       "      <td>22:45</td>\n",
       "      <td>22:59</td>\n",
       "      <td>0.02</td>\n",
       "      <td>0.00</td>\n",
       "    </tr>\n",
       "    <tr>\n",
       "      <th>70364</th>\n",
       "      <td>10/24/2018</td>\n",
       "      <td>23:00</td>\n",
       "      <td>23:14</td>\n",
       "      <td>0.03</td>\n",
       "      <td>0.01</td>\n",
       "    </tr>\n",
       "    <tr>\n",
       "      <th>70365</th>\n",
       "      <td>10/24/2018</td>\n",
       "      <td>23:15</td>\n",
       "      <td>23:29</td>\n",
       "      <td>0.03</td>\n",
       "      <td>0.01</td>\n",
       "    </tr>\n",
       "    <tr>\n",
       "      <th>70366</th>\n",
       "      <td>10/24/2018</td>\n",
       "      <td>23:30</td>\n",
       "      <td>23:44</td>\n",
       "      <td>0.03</td>\n",
       "      <td>0.01</td>\n",
       "    </tr>\n",
       "    <tr>\n",
       "      <th>70367</th>\n",
       "      <td>10/24/2018</td>\n",
       "      <td>23:45</td>\n",
       "      <td>23:59</td>\n",
       "      <td>0.03</td>\n",
       "      <td>0.01</td>\n",
       "    </tr>\n",
       "  </tbody>\n",
       "</table>\n",
       "<p>70368 rows × 5 columns</p>\n",
       "</div>"
      ],
      "text/plain": [
       "             DATE START TIME END TIME  USAGE  COST\n",
       "0      10/22/2016       0:00     0:14   0.01  0.00\n",
       "1      10/22/2016       0:15     0:29   0.01  0.00\n",
       "2      10/22/2016       0:30     0:44   0.01  0.00\n",
       "3      10/22/2016       0:45     0:59   0.01  0.00\n",
       "4      10/22/2016       1:00     1:14   0.01  0.00\n",
       "...           ...        ...      ...    ...   ...\n",
       "70363  10/24/2018      22:45    22:59   0.02  0.00\n",
       "70364  10/24/2018      23:00    23:14   0.03  0.01\n",
       "70365  10/24/2018      23:15    23:29   0.03  0.01\n",
       "70366  10/24/2018      23:30    23:44   0.03  0.01\n",
       "70367  10/24/2018      23:45    23:59   0.03  0.01\n",
       "\n",
       "[70368 rows x 5 columns]"
      ]
     },
     "execution_count": 11,
     "metadata": {},
     "output_type": "execute_result"
    }
   ],
   "source": [
    "df"
   ]
  },
  {
   "cell_type": "markdown",
   "id": "4086ed72",
   "metadata": {},
   "source": [
    "# Range of the DATE column"
   ]
  },
  {
   "cell_type": "code",
   "execution_count": 12,
   "id": "a17be45b",
   "metadata": {
    "scrolled": true
   },
   "outputs": [
    {
     "data": {
      "text/html": [
       "<div>\n",
       "<style scoped>\n",
       "    .dataframe tbody tr th:only-of-type {\n",
       "        vertical-align: middle;\n",
       "    }\n",
       "\n",
       "    .dataframe tbody tr th {\n",
       "        vertical-align: top;\n",
       "    }\n",
       "\n",
       "    .dataframe thead th {\n",
       "        text-align: right;\n",
       "    }\n",
       "</style>\n",
       "<table border=\"1\" class=\"dataframe\">\n",
       "  <thead>\n",
       "    <tr style=\"text-align: right;\">\n",
       "      <th></th>\n",
       "      <th>DATE</th>\n",
       "      <th>START TIME</th>\n",
       "      <th>END TIME</th>\n",
       "      <th>USAGE</th>\n",
       "      <th>COST</th>\n",
       "    </tr>\n",
       "  </thead>\n",
       "  <tbody>\n",
       "    <tr>\n",
       "      <th>0</th>\n",
       "      <td>10/22/2016</td>\n",
       "      <td>0:00</td>\n",
       "      <td>0:14</td>\n",
       "      <td>0.01</td>\n",
       "      <td>0.00</td>\n",
       "    </tr>\n",
       "    <tr>\n",
       "      <th>1</th>\n",
       "      <td>10/22/2016</td>\n",
       "      <td>0:15</td>\n",
       "      <td>0:29</td>\n",
       "      <td>0.01</td>\n",
       "      <td>0.00</td>\n",
       "    </tr>\n",
       "    <tr>\n",
       "      <th>2</th>\n",
       "      <td>10/22/2016</td>\n",
       "      <td>0:30</td>\n",
       "      <td>0:44</td>\n",
       "      <td>0.01</td>\n",
       "      <td>0.00</td>\n",
       "    </tr>\n",
       "    <tr>\n",
       "      <th>3</th>\n",
       "      <td>10/22/2016</td>\n",
       "      <td>0:45</td>\n",
       "      <td>0:59</td>\n",
       "      <td>0.01</td>\n",
       "      <td>0.00</td>\n",
       "    </tr>\n",
       "    <tr>\n",
       "      <th>4</th>\n",
       "      <td>10/22/2016</td>\n",
       "      <td>1:00</td>\n",
       "      <td>1:14</td>\n",
       "      <td>0.01</td>\n",
       "      <td>0.00</td>\n",
       "    </tr>\n",
       "    <tr>\n",
       "      <th>...</th>\n",
       "      <td>...</td>\n",
       "      <td>...</td>\n",
       "      <td>...</td>\n",
       "      <td>...</td>\n",
       "      <td>...</td>\n",
       "    </tr>\n",
       "    <tr>\n",
       "      <th>70363</th>\n",
       "      <td>10/24/2018</td>\n",
       "      <td>22:45</td>\n",
       "      <td>22:59</td>\n",
       "      <td>0.02</td>\n",
       "      <td>0.00</td>\n",
       "    </tr>\n",
       "    <tr>\n",
       "      <th>70364</th>\n",
       "      <td>10/24/2018</td>\n",
       "      <td>23:00</td>\n",
       "      <td>23:14</td>\n",
       "      <td>0.03</td>\n",
       "      <td>0.01</td>\n",
       "    </tr>\n",
       "    <tr>\n",
       "      <th>70365</th>\n",
       "      <td>10/24/2018</td>\n",
       "      <td>23:15</td>\n",
       "      <td>23:29</td>\n",
       "      <td>0.03</td>\n",
       "      <td>0.01</td>\n",
       "    </tr>\n",
       "    <tr>\n",
       "      <th>70366</th>\n",
       "      <td>10/24/2018</td>\n",
       "      <td>23:30</td>\n",
       "      <td>23:44</td>\n",
       "      <td>0.03</td>\n",
       "      <td>0.01</td>\n",
       "    </tr>\n",
       "    <tr>\n",
       "      <th>70367</th>\n",
       "      <td>10/24/2018</td>\n",
       "      <td>23:45</td>\n",
       "      <td>23:59</td>\n",
       "      <td>0.03</td>\n",
       "      <td>0.01</td>\n",
       "    </tr>\n",
       "  </tbody>\n",
       "</table>\n",
       "<p>70368 rows × 5 columns</p>\n",
       "</div>"
      ],
      "text/plain": [
       "             DATE START TIME END TIME  USAGE  COST\n",
       "0      10/22/2016       0:00     0:14   0.01  0.00\n",
       "1      10/22/2016       0:15     0:29   0.01  0.00\n",
       "2      10/22/2016       0:30     0:44   0.01  0.00\n",
       "3      10/22/2016       0:45     0:59   0.01  0.00\n",
       "4      10/22/2016       1:00     1:14   0.01  0.00\n",
       "...           ...        ...      ...    ...   ...\n",
       "70363  10/24/2018      22:45    22:59   0.02  0.00\n",
       "70364  10/24/2018      23:00    23:14   0.03  0.01\n",
       "70365  10/24/2018      23:15    23:29   0.03  0.01\n",
       "70366  10/24/2018      23:30    23:44   0.03  0.01\n",
       "70367  10/24/2018      23:45    23:59   0.03  0.01\n",
       "\n",
       "[70368 rows x 5 columns]"
      ]
     },
     "execution_count": 12,
     "metadata": {},
     "output_type": "execute_result"
    }
   ],
   "source": [
    "df"
   ]
  },
  {
   "cell_type": "markdown",
   "id": "290dc87b",
   "metadata": {},
   "source": [
    "We can see that the date start at 2016 and ends in 2018"
   ]
  },
  {
   "cell_type": "markdown",
   "id": "00abcc7d",
   "metadata": {},
   "source": [
    "# Plotting the whole data"
   ]
  },
  {
   "cell_type": "markdown",
   "id": "1bdbd304",
   "metadata": {},
   "source": [
    "## Plotting electricity usage"
   ]
  },
  {
   "cell_type": "code",
   "execution_count": 13,
   "id": "1d66e10d",
   "metadata": {
    "scrolled": true
   },
   "outputs": [
    {
     "name": "stderr",
     "output_type": "stream",
     "text": [
      "C:\\Users\\Asty\\AppData\\Local\\Temp\\ipykernel_22832\\1459665475.py:5: SettingWithCopyWarning: \n",
      "A value is trying to be set on a copy of a slice from a DataFrame.\n",
      "Try using .loc[row_indexer,col_indexer] = value instead\n",
      "\n",
      "See the caveats in the documentation: https://pandas.pydata.org/pandas-docs/stable/user_guide/indexing.html#returning-a-view-versus-a-copy\n",
      "  usage_plot['DATE'] = pd.to_datetime(usage_plot['DATE'])\n"
     ]
    },
    {
     "data": {
      "image/png": "[encoded data removed]",
      "text/plain": [
       "<Figure size 1800x720 with 1 Axes>"
      ]
     },
     "metadata": {
      "needs_background": "light"
     },
     "output_type": "display_data"
    }
   ],
   "source": [
    "import matplotlib.pyplot as plt\n",
    "\n",
    "usage_plot = df[['DATE','USAGE']]\n",
    "\n",
    "usage_plot['DATE'] = pd.to_datetime(usage_plot['DATE'])\n",
    "usage_plot.set_index('DATE', inplace=True)\n",
    "plt.figure(figsize=(25, 10))\n",
    "usage_plot['USAGE'].plot()\n",
    "plt.title('Household Electricity Usage in San Jose')\n",
    "plt.xlabel('Date')\n",
    "plt.ylabel('Usage')\n",
    "plt.show()"
   ]
  },
  {
   "cell_type": "markdown",
   "id": "ddbbee77",
   "metadata": {},
   "source": [
    "The electricity consumption exhibits significant peaks during specific periods:\n",
    "- From the end of 2016 to the beginning of 2017\n",
    "- From the end of 2017 to the beginning of 2018\n",
    "- During one particular month in 2018\n",
    "\n",
    "Notice that we have one pattern here: the electricity usage is always distinctly high from the end of each year through the start of the following year. Further observations can be done later."
   ]
  },
  {
   "cell_type": "markdown",
   "id": "e3e7f8a8",
   "metadata": {},
   "source": [
    "## Plotting Electricity Cost"
   ]
  },
  {
   "cell_type": "code",
   "execution_count": 14,
   "id": "bc78eb17",
   "metadata": {
    "scrolled": true
   },
   "outputs": [
    {
     "name": "stderr",
     "output_type": "stream",
     "text": [
      "C:\\Users\\Asty\\AppData\\Local\\Temp\\ipykernel_22832\\3870155938.py:5: SettingWithCopyWarning: \n",
      "A value is trying to be set on a copy of a slice from a DataFrame.\n",
      "Try using .loc[row_indexer,col_indexer] = value instead\n",
      "\n",
      "See the caveats in the documentation: https://pandas.pydata.org/pandas-docs/stable/user_guide/indexing.html#returning-a-view-versus-a-copy\n",
      "  usage_plot['DATE'] = pd.to_datetime(usage_plot['DATE'])\n"
     ]
    },
    {
     "data": {
      "image/png": "[encoded data removed]",
      "text/plain": [
       "<Figure size 1800x720 with 1 Axes>"
      ]
     },
     "metadata": {
      "needs_background": "light"
     },
     "output_type": "display_data"
    }
   ],
   "source": [
    "import matplotlib.pyplot as plt\n",
    "\n",
    "usage_plot = df[['DATE','COST']]\n",
    "\n",
    "usage_plot['DATE'] = pd.to_datetime(usage_plot['DATE'])\n",
    "usage_plot.set_index('DATE', inplace=True)\n",
    "plt.figure(figsize=(25, 10))\n",
    "usage_plot['COST'].plot()\n",
    "plt.title('Household Electricity Cost in San Jose')\n",
    "plt.xlabel('Date')\n",
    "plt.ylabel('Cos')\n",
    "plt.show()"
   ]
  },
  {
   "cell_type": "markdown",
   "id": "4c1920a9",
   "metadata": {},
   "source": [
    "The pattern is quite the same with electricity usage. We can observe the correlation between them."
   ]
  },
  {
   "cell_type": "markdown",
   "id": "df8bb844",
   "metadata": {},
   "source": [
    "# Correlation between electricity usage and cost"
   ]
  },
  {
   "cell_type": "code",
   "execution_count": 15,
   "id": "9121271f",
   "metadata": {},
   "outputs": [
    {
     "data": {
      "text/plain": [
       "<AxesSubplot:xlabel='USAGE', ylabel='COST'>"
      ]
     },
     "execution_count": 15,
     "metadata": {},
     "output_type": "execute_result"
    },
    {
     "data": {
      "image/png": "[encoded data removed]",
      "text/plain": [
       "<Figure size 720x1080 with 1 Axes>"
      ]
     },
     "metadata": {
      "needs_background": "light"
     },
     "output_type": "display_data"
    }
   ],
   "source": [
    "df.plot.scatter(x='USAGE', y='COST',figsize=(10, 15))"
   ]
  },
  {
   "cell_type": "markdown",
   "id": "f44d55d5",
   "metadata": {},
   "source": [
    "From the image, the pattern indicates that usage and cost have a positive correlation. Now let's see the correlation value of them both."
   ]
  },
  {
   "cell_type": "code",
   "execution_count": 16,
   "id": "c34f8c9b",
   "metadata": {
    "scrolled": true
   },
   "outputs": [
    {
     "data": {
      "text/html": [
       "<div>\n",
       "<style scoped>\n",
       "    .dataframe tbody tr th:only-of-type {\n",
       "        vertical-align: middle;\n",
       "    }\n",
       "\n",
       "    .dataframe tbody tr th {\n",
       "        vertical-align: top;\n",
       "    }\n",
       "\n",
       "    .dataframe thead th {\n",
       "        text-align: right;\n",
       "    }\n",
       "</style>\n",
       "<table border=\"1\" class=\"dataframe\">\n",
       "  <thead>\n",
       "    <tr style=\"text-align: right;\">\n",
       "      <th></th>\n",
       "      <th>USAGE</th>\n",
       "      <th>COST</th>\n",
       "    </tr>\n",
       "  </thead>\n",
       "  <tbody>\n",
       "    <tr>\n",
       "      <th>USAGE</th>\n",
       "      <td>1.000000</td>\n",
       "      <td>0.991939</td>\n",
       "    </tr>\n",
       "    <tr>\n",
       "      <th>COST</th>\n",
       "      <td>0.991939</td>\n",
       "      <td>1.000000</td>\n",
       "    </tr>\n",
       "  </tbody>\n",
       "</table>\n",
       "</div>"
      ],
      "text/plain": [
       "          USAGE      COST\n",
       "USAGE  1.000000  0.991939\n",
       "COST   0.991939  1.000000"
      ]
     },
     "execution_count": 16,
     "metadata": {},
     "output_type": "execute_result"
    }
   ],
   "source": [
    "df.corr(method='pearson')"
   ]
  },
  {
   "cell_type": "markdown",
   "id": "d2877996",
   "metadata": {},
   "source": [
    "The correlation value is very high, indicating a strong linear relationship between the two variables. As one variable increases, the other variable tends to increase in a predictable manner. This strong correlation is useful for making predictions about one variable based on the value of the other."
   ]
  },
  {
   "cell_type": "markdown",
   "id": "ecc8ea44",
   "metadata": {},
   "source": [
    "# Creating timestamp column\n",
    "\n",
    "DATE, START TIME, and END TIME columns are deleted since we have timestamp now."
   ]
  },
  {
   "cell_type": "code",
   "execution_count": 17,
   "id": "568e63c1",
   "metadata": {},
   "outputs": [],
   "source": [
    "add_prefix_lambda = lambda start_time: \"0\"+ start_time if int(start_time.split(\":\")[0]) < 12 else start_time\n",
    "df[\"START TIME\"] = df[\"START TIME\"].apply(add_prefix_lambda)\n",
    "\n",
    "df[\"TIMESTAMP\"] = df[\"DATE\"] + \" \" + df[\"START TIME\"]\n",
    "df[\"TIMESTAMP\"] = pd.to_datetime(df[\"TIMESTAMP\"])\n",
    "\n",
    "df = df.drop(columns=['DATE','START TIME','END TIME'])"
   ]
  },
  {
   "cell_type": "code",
   "execution_count": 18,
   "id": "dbfeceec",
   "metadata": {},
   "outputs": [
    {
     "data": {
      "text/html": [
       "<div>\n",
       "<style scoped>\n",
       "    .dataframe tbody tr th:only-of-type {\n",
       "        vertical-align: middle;\n",
       "    }\n",
       "\n",
       "    .dataframe tbody tr th {\n",
       "        vertical-align: top;\n",
       "    }\n",
       "\n",
       "    .dataframe thead th {\n",
       "        text-align: right;\n",
       "    }\n",
       "</style>\n",
       "<table border=\"1\" class=\"dataframe\">\n",
       "  <thead>\n",
       "    <tr style=\"text-align: right;\">\n",
       "      <th></th>\n",
       "      <th>USAGE</th>\n",
       "      <th>COST</th>\n",
       "      <th>TIMESTAMP</th>\n",
       "    </tr>\n",
       "  </thead>\n",
       "  <tbody>\n",
       "    <tr>\n",
       "      <th>0</th>\n",
       "      <td>0.01</td>\n",
       "      <td>0.00</td>\n",
       "      <td>2016-10-22 00:00:00</td>\n",
       "    </tr>\n",
       "    <tr>\n",
       "      <th>1</th>\n",
       "      <td>0.01</td>\n",
       "      <td>0.00</td>\n",
       "      <td>2016-10-22 00:15:00</td>\n",
       "    </tr>\n",
       "    <tr>\n",
       "      <th>2</th>\n",
       "      <td>0.01</td>\n",
       "      <td>0.00</td>\n",
       "      <td>2016-10-22 00:30:00</td>\n",
       "    </tr>\n",
       "    <tr>\n",
       "      <th>3</th>\n",
       "      <td>0.01</td>\n",
       "      <td>0.00</td>\n",
       "      <td>2016-10-22 00:45:00</td>\n",
       "    </tr>\n",
       "    <tr>\n",
       "      <th>4</th>\n",
       "      <td>0.01</td>\n",
       "      <td>0.00</td>\n",
       "      <td>2016-10-22 01:00:00</td>\n",
       "    </tr>\n",
       "    <tr>\n",
       "      <th>...</th>\n",
       "      <td>...</td>\n",
       "      <td>...</td>\n",
       "      <td>...</td>\n",
       "    </tr>\n",
       "    <tr>\n",
       "      <th>70363</th>\n",
       "      <td>0.02</td>\n",
       "      <td>0.00</td>\n",
       "      <td>2018-10-24 22:45:00</td>\n",
       "    </tr>\n",
       "    <tr>\n",
       "      <th>70364</th>\n",
       "      <td>0.03</td>\n",
       "      <td>0.01</td>\n",
       "      <td>2018-10-24 23:00:00</td>\n",
       "    </tr>\n",
       "    <tr>\n",
       "      <th>70365</th>\n",
       "      <td>0.03</td>\n",
       "      <td>0.01</td>\n",
       "      <td>2018-10-24 23:15:00</td>\n",
       "    </tr>\n",
       "    <tr>\n",
       "      <th>70366</th>\n",
       "      <td>0.03</td>\n",
       "      <td>0.01</td>\n",
       "      <td>2018-10-24 23:30:00</td>\n",
       "    </tr>\n",
       "    <tr>\n",
       "      <th>70367</th>\n",
       "      <td>0.03</td>\n",
       "      <td>0.01</td>\n",
       "      <td>2018-10-24 23:45:00</td>\n",
       "    </tr>\n",
       "  </tbody>\n",
       "</table>\n",
       "<p>70368 rows × 3 columns</p>\n",
       "</div>"
      ],
      "text/plain": [
       "       USAGE  COST           TIMESTAMP\n",
       "0       0.01  0.00 2016-10-22 00:00:00\n",
       "1       0.01  0.00 2016-10-22 00:15:00\n",
       "2       0.01  0.00 2016-10-22 00:30:00\n",
       "3       0.01  0.00 2016-10-22 00:45:00\n",
       "4       0.01  0.00 2016-10-22 01:00:00\n",
       "...      ...   ...                 ...\n",
       "70363   0.02  0.00 2018-10-24 22:45:00\n",
       "70364   0.03  0.01 2018-10-24 23:00:00\n",
       "70365   0.03  0.01 2018-10-24 23:15:00\n",
       "70366   0.03  0.01 2018-10-24 23:30:00\n",
       "70367   0.03  0.01 2018-10-24 23:45:00\n",
       "\n",
       "[70368 rows x 3 columns]"
      ]
     },
     "execution_count": 18,
     "metadata": {},
     "output_type": "execute_result"
    }
   ],
   "source": [
    "df"
   ]
  },
  {
   "cell_type": "markdown",
   "id": "4be7f1cd",
   "metadata": {},
   "source": [
    "# Creating hourly_df \n",
    "\n",
    "The data is aggregrated into one-hour interval. This action simplifies the dataset, making it easier to analyze and visualize. Also, many reporting standards and practices are based on hourly data. Furthermore, in contexts like energy consumption or utility usage, billing cycles and usage tariffs are often based on hourly consumption. "
   ]
  },
  {
   "cell_type": "code",
   "execution_count": 19,
   "id": "8cd89126",
   "metadata": {},
   "outputs": [],
   "source": [
    "hourly_df = df.resample(\"1H\", on=\"TIMESTAMP\").sum()\n",
    "hourly_df= hourly_df.reset_index()"
   ]
  },
  {
   "cell_type": "code",
   "execution_count": 20,
   "id": "ba06ceac",
   "metadata": {},
   "outputs": [
    {
     "data": {
      "text/html": [
       "<div>\n",
       "<style scoped>\n",
       "    .dataframe tbody tr th:only-of-type {\n",
       "        vertical-align: middle;\n",
       "    }\n",
       "\n",
       "    .dataframe tbody tr th {\n",
       "        vertical-align: top;\n",
       "    }\n",
       "\n",
       "    .dataframe thead th {\n",
       "        text-align: right;\n",
       "    }\n",
       "</style>\n",
       "<table border=\"1\" class=\"dataframe\">\n",
       "  <thead>\n",
       "    <tr style=\"text-align: right;\">\n",
       "      <th></th>\n",
       "      <th>TIMESTAMP</th>\n",
       "      <th>USAGE</th>\n",
       "      <th>COST</th>\n",
       "    </tr>\n",
       "  </thead>\n",
       "  <tbody>\n",
       "    <tr>\n",
       "      <th>0</th>\n",
       "      <td>2016-10-22 00:00:00</td>\n",
       "      <td>0.04</td>\n",
       "      <td>0.00</td>\n",
       "    </tr>\n",
       "    <tr>\n",
       "      <th>1</th>\n",
       "      <td>2016-10-22 01:00:00</td>\n",
       "      <td>0.04</td>\n",
       "      <td>0.00</td>\n",
       "    </tr>\n",
       "    <tr>\n",
       "      <th>2</th>\n",
       "      <td>2016-10-22 02:00:00</td>\n",
       "      <td>0.08</td>\n",
       "      <td>0.00</td>\n",
       "    </tr>\n",
       "    <tr>\n",
       "      <th>3</th>\n",
       "      <td>2016-10-22 03:00:00</td>\n",
       "      <td>0.04</td>\n",
       "      <td>0.00</td>\n",
       "    </tr>\n",
       "    <tr>\n",
       "      <th>4</th>\n",
       "      <td>2016-10-22 04:00:00</td>\n",
       "      <td>0.04</td>\n",
       "      <td>0.00</td>\n",
       "    </tr>\n",
       "    <tr>\n",
       "      <th>...</th>\n",
       "      <td>...</td>\n",
       "      <td>...</td>\n",
       "      <td>...</td>\n",
       "    </tr>\n",
       "    <tr>\n",
       "      <th>17587</th>\n",
       "      <td>2018-10-24 19:00:00</td>\n",
       "      <td>0.12</td>\n",
       "      <td>0.04</td>\n",
       "    </tr>\n",
       "    <tr>\n",
       "      <th>17588</th>\n",
       "      <td>2018-10-24 20:00:00</td>\n",
       "      <td>0.12</td>\n",
       "      <td>0.04</td>\n",
       "    </tr>\n",
       "    <tr>\n",
       "      <th>17589</th>\n",
       "      <td>2018-10-24 21:00:00</td>\n",
       "      <td>0.12</td>\n",
       "      <td>0.04</td>\n",
       "    </tr>\n",
       "    <tr>\n",
       "      <th>17590</th>\n",
       "      <td>2018-10-24 22:00:00</td>\n",
       "      <td>0.08</td>\n",
       "      <td>0.00</td>\n",
       "    </tr>\n",
       "    <tr>\n",
       "      <th>17591</th>\n",
       "      <td>2018-10-24 23:00:00</td>\n",
       "      <td>0.12</td>\n",
       "      <td>0.04</td>\n",
       "    </tr>\n",
       "  </tbody>\n",
       "</table>\n",
       "<p>17592 rows × 3 columns</p>\n",
       "</div>"
      ],
      "text/plain": [
       "                TIMESTAMP  USAGE  COST\n",
       "0     2016-10-22 00:00:00   0.04  0.00\n",
       "1     2016-10-22 01:00:00   0.04  0.00\n",
       "2     2016-10-22 02:00:00   0.08  0.00\n",
       "3     2016-10-22 03:00:00   0.04  0.00\n",
       "4     2016-10-22 04:00:00   0.04  0.00\n",
       "...                   ...    ...   ...\n",
       "17587 2018-10-24 19:00:00   0.12  0.04\n",
       "17588 2018-10-24 20:00:00   0.12  0.04\n",
       "17589 2018-10-24 21:00:00   0.12  0.04\n",
       "17590 2018-10-24 22:00:00   0.08  0.00\n",
       "17591 2018-10-24 23:00:00   0.12  0.04\n",
       "\n",
       "[17592 rows x 3 columns]"
      ]
     },
     "execution_count": 20,
     "metadata": {},
     "output_type": "execute_result"
    }
   ],
   "source": [
    "hourly_df"
   ]
  },
  {
   "cell_type": "code",
   "execution_count": 21,
   "id": "f0d586c0",
   "metadata": {},
   "outputs": [],
   "source": [
    "hourly_df['DAY'] = hourly_df['TIMESTAMP'].dt.day\n",
    "hourly_df['MONTH'] = hourly_df['TIMESTAMP'].dt.month\n",
    "hourly_df['YEAR'] = hourly_df['TIMESTAMP'].dt.year"
   ]
  },
  {
   "cell_type": "markdown",
   "id": "969d2b9d",
   "metadata": {},
   "source": [
    "Set TIMESTAMP column as index"
   ]
  },
  {
   "cell_type": "code",
   "execution_count": 22,
   "id": "f5f2732f",
   "metadata": {},
   "outputs": [],
   "source": [
    "hourly_df = hourly_df.set_index('TIMESTAMP')"
   ]
  },
  {
   "cell_type": "code",
   "execution_count": 23,
   "id": "d77d0b9c",
   "metadata": {
    "scrolled": true
   },
   "outputs": [
    {
     "data": {
      "text/html": [
       "<div>\n",
       "<style scoped>\n",
       "    .dataframe tbody tr th:only-of-type {\n",
       "        vertical-align: middle;\n",
       "    }\n",
       "\n",
       "    .dataframe tbody tr th {\n",
       "        vertical-align: top;\n",
       "    }\n",
       "\n",
       "    .dataframe thead th {\n",
       "        text-align: right;\n",
       "    }\n",
       "</style>\n",
       "<table border=\"1\" class=\"dataframe\">\n",
       "  <thead>\n",
       "    <tr style=\"text-align: right;\">\n",
       "      <th></th>\n",
       "      <th>USAGE</th>\n",
       "      <th>COST</th>\n",
       "      <th>DAY</th>\n",
       "      <th>MONTH</th>\n",
       "      <th>YEAR</th>\n",
       "    </tr>\n",
       "    <tr>\n",
       "      <th>TIMESTAMP</th>\n",
       "      <th></th>\n",
       "      <th></th>\n",
       "      <th></th>\n",
       "      <th></th>\n",
       "      <th></th>\n",
       "    </tr>\n",
       "  </thead>\n",
       "  <tbody>\n",
       "    <tr>\n",
       "      <th>2016-10-22 00:00:00</th>\n",
       "      <td>0.04</td>\n",
       "      <td>0.00</td>\n",
       "      <td>22</td>\n",
       "      <td>10</td>\n",
       "      <td>2016</td>\n",
       "    </tr>\n",
       "    <tr>\n",
       "      <th>2016-10-22 01:00:00</th>\n",
       "      <td>0.04</td>\n",
       "      <td>0.00</td>\n",
       "      <td>22</td>\n",
       "      <td>10</td>\n",
       "      <td>2016</td>\n",
       "    </tr>\n",
       "    <tr>\n",
       "      <th>2016-10-22 02:00:00</th>\n",
       "      <td>0.08</td>\n",
       "      <td>0.00</td>\n",
       "      <td>22</td>\n",
       "      <td>10</td>\n",
       "      <td>2016</td>\n",
       "    </tr>\n",
       "    <tr>\n",
       "      <th>2016-10-22 03:00:00</th>\n",
       "      <td>0.04</td>\n",
       "      <td>0.00</td>\n",
       "      <td>22</td>\n",
       "      <td>10</td>\n",
       "      <td>2016</td>\n",
       "    </tr>\n",
       "    <tr>\n",
       "      <th>2016-10-22 04:00:00</th>\n",
       "      <td>0.04</td>\n",
       "      <td>0.00</td>\n",
       "      <td>22</td>\n",
       "      <td>10</td>\n",
       "      <td>2016</td>\n",
       "    </tr>\n",
       "    <tr>\n",
       "      <th>...</th>\n",
       "      <td>...</td>\n",
       "      <td>...</td>\n",
       "      <td>...</td>\n",
       "      <td>...</td>\n",
       "      <td>...</td>\n",
       "    </tr>\n",
       "    <tr>\n",
       "      <th>2018-10-24 19:00:00</th>\n",
       "      <td>0.12</td>\n",
       "      <td>0.04</td>\n",
       "      <td>24</td>\n",
       "      <td>10</td>\n",
       "      <td>2018</td>\n",
       "    </tr>\n",
       "    <tr>\n",
       "      <th>2018-10-24 20:00:00</th>\n",
       "      <td>0.12</td>\n",
       "      <td>0.04</td>\n",
       "      <td>24</td>\n",
       "      <td>10</td>\n",
       "      <td>2018</td>\n",
       "    </tr>\n",
       "    <tr>\n",
       "      <th>2018-10-24 21:00:00</th>\n",
       "      <td>0.12</td>\n",
       "      <td>0.04</td>\n",
       "      <td>24</td>\n",
       "      <td>10</td>\n",
       "      <td>2018</td>\n",
       "    </tr>\n",
       "    <tr>\n",
       "      <th>2018-10-24 22:00:00</th>\n",
       "      <td>0.08</td>\n",
       "      <td>0.00</td>\n",
       "      <td>24</td>\n",
       "      <td>10</td>\n",
       "      <td>2018</td>\n",
       "    </tr>\n",
       "    <tr>\n",
       "      <th>2018-10-24 23:00:00</th>\n",
       "      <td>0.12</td>\n",
       "      <td>0.04</td>\n",
       "      <td>24</td>\n",
       "      <td>10</td>\n",
       "      <td>2018</td>\n",
       "    </tr>\n",
       "  </tbody>\n",
       "</table>\n",
       "<p>17592 rows × 5 columns</p>\n",
       "</div>"
      ],
      "text/plain": [
       "                     USAGE  COST  DAY  MONTH  YEAR\n",
       "TIMESTAMP                                         \n",
       "2016-10-22 00:00:00   0.04  0.00   22     10  2016\n",
       "2016-10-22 01:00:00   0.04  0.00   22     10  2016\n",
       "2016-10-22 02:00:00   0.08  0.00   22     10  2016\n",
       "2016-10-22 03:00:00   0.04  0.00   22     10  2016\n",
       "2016-10-22 04:00:00   0.04  0.00   22     10  2016\n",
       "...                    ...   ...  ...    ...   ...\n",
       "2018-10-24 19:00:00   0.12  0.04   24     10  2018\n",
       "2018-10-24 20:00:00   0.12  0.04   24     10  2018\n",
       "2018-10-24 21:00:00   0.12  0.04   24     10  2018\n",
       "2018-10-24 22:00:00   0.08  0.00   24     10  2018\n",
       "2018-10-24 23:00:00   0.12  0.04   24     10  2018\n",
       "\n",
       "[17592 rows x 5 columns]"
      ]
     },
     "execution_count": 23,
     "metadata": {},
     "output_type": "execute_result"
    }
   ],
   "source": [
    "hourly_df"
   ]
  },
  {
   "cell_type": "markdown",
   "id": "67ab3454",
   "metadata": {},
   "source": [
    "# Electricity Usage per Year"
   ]
  },
  {
   "cell_type": "code",
   "execution_count": 38,
   "id": "64d60d60",
   "metadata": {
    "scrolled": true
   },
   "outputs": [
    {
     "data": {
      "image/png": "[encoded data removed]",
      "text/plain": [
       "<Figure size 1440x720 with 1 Axes>"
      ]
     },
     "metadata": {
      "needs_background": "light"
     },
     "output_type": "display_data"
    }
   ],
   "source": [
    "yearly_mean_usage = hourly_df.groupby('YEAR')['USAGE'].mean().reset_index()\n",
    "yearly_mean_usage['YEAR'] = yearly_mean_usage['YEAR'].astype(int)\n",
    "# Plotting the mean usage for weekdays and weekends using a barplot\n",
    "plt.figure(figsize=(20, 10))\n",
    "sns.barplot(data=yearly_mean_usage, x='YEAR', y='USAGE')\n",
    "plt.title('Avg Usage of Electricity per Year')\n",
    "plt.xlabel('Year')\n",
    "plt.ylabel('Mean Electricity Usage (kWh)')\n",
    "plt.show()"
   ]
  },
  {
   "cell_type": "markdown",
   "id": "dd6a9562",
   "metadata": {},
   "source": [
    "We can observe that this customer's annual electricity consumption has been consistently decreasing. Further observation is required to determine the cause of this trend. It is possible that the customer has acquired a new job, leading to increased time spent in the office, or there could be other factors that encourage more activities outside the home. Also, the customer may be actively reducing their electricity usage as a cost-saving measure."
   ]
  },
  {
   "cell_type": "markdown",
   "id": "f30709b1",
   "metadata": {},
   "source": [
    "# Electricity Usage per Month"
   ]
  },
  {
   "cell_type": "code",
   "execution_count": 39,
   "id": "88910521",
   "metadata": {
    "scrolled": true
   },
   "outputs": [
    {
     "data": {
      "image/png": "[encoded data removed]",
      "text/plain": [
       "<Figure size 1440x720 with 1 Axes>"
      ]
     },
     "metadata": {
      "needs_background": "light"
     },
     "output_type": "display_data"
    }
   ],
   "source": [
    "monthly_mean_usage = hourly_df.groupby('MONTH')['USAGE'].mean().reset_index()\n",
    "monthly_mean_usage['MONTH'] = monthly_mean_usage['MONTH'].astype(int)\n",
    "# Plotting the mean usage for weekdays and weekends using a barplot\n",
    "plt.figure(figsize=(20, 10))\n",
    "sns.barplot(data=monthly_mean_usage, x='MONTH', y='USAGE')\n",
    "plt.title('Avg Usage of Electricity per Month')\n",
    "plt.xlabel('Month')\n",
    "plt.ylabel('Mean Electricity Usage (kWh)')\n",
    "plt.show()"
   ]
  },
  {
   "cell_type": "markdown",
   "id": "434935f6",
   "metadata": {},
   "source": [
    "The monthly electricity usage data reveals a notable pattern: this customer's consumption peaks during January, February, November, and December, the winter months in San Francisco. This increase is likely due to more time spent indoors, necessitating higher heater usage. The winter is not that cold in San Fransisco, so the heater usage may be lower than any other area with snow. Conversely, electricity consumption appears to decrease during the summer months, possibly because the customer spends more time away from their apartment, enjoying outdoor activities such as going to the beach or on vacation."
   ]
  },
  {
   "cell_type": "markdown",
   "id": "842fd8c9",
   "metadata": {},
   "source": [
    "# Electricity Usage per Date (Day)"
   ]
  },
  {
   "cell_type": "markdown",
   "id": "18730727",
   "metadata": {},
   "source": [
    "Now let's see the electricity usage per date (day)"
   ]
  },
  {
   "cell_type": "code",
   "execution_count": 31,
   "id": "bec33cab",
   "metadata": {
    "scrolled": true
   },
   "outputs": [
    {
     "data": {
      "image/png": "[encoded data removed]",
      "text/plain": [
       "<Figure size 1440x720 with 1 Axes>"
      ]
     },
     "metadata": {
      "needs_background": "light"
     },
     "output_type": "display_data"
    }
   ],
   "source": [
    "daily_mean_usage = hourly_df.groupby('DAY')['USAGE'].mean().reset_index()\n",
    "daily_mean_usage['DAY'] = daily_mean_usage['DAY'].astype(int)\n",
    "# Plotting the mean usage for weekdays and weekends using a barplot\n",
    "plt.figure(figsize=(20, 10))\n",
    "sns.barplot(data=daily_mean_usage, x='DAY', y='USAGE')\n",
    "plt.title('Avg Usage of Electricity per Date')\n",
    "plt.xlabel('Day')\n",
    "plt.ylabel('Mean Electricity Usage (kWh)')\n",
    "plt.show()"
   ]
  },
  {
   "cell_type": "markdown",
   "id": "f3111eb3",
   "metadata": {},
   "source": [
    "We can observe some slight differences in electricity usage when grouped by date. Now, let's examine the top 5 dates with the highest electricity usage."
   ]
  },
  {
   "cell_type": "code",
   "execution_count": 36,
   "id": "79cf39c3",
   "metadata": {
    "scrolled": true
   },
   "outputs": [
    {
     "data": {
      "text/html": [
       "<div>\n",
       "<style scoped>\n",
       "    .dataframe tbody tr th:only-of-type {\n",
       "        vertical-align: middle;\n",
       "    }\n",
       "\n",
       "    .dataframe tbody tr th {\n",
       "        vertical-align: top;\n",
       "    }\n",
       "\n",
       "    .dataframe thead th {\n",
       "        text-align: right;\n",
       "    }\n",
       "</style>\n",
       "<table border=\"1\" class=\"dataframe\">\n",
       "  <thead>\n",
       "    <tr style=\"text-align: right;\">\n",
       "      <th></th>\n",
       "      <th>DAY</th>\n",
       "      <th>USAGE</th>\n",
       "    </tr>\n",
       "  </thead>\n",
       "  <tbody>\n",
       "    <tr>\n",
       "      <th>1</th>\n",
       "      <td>2</td>\n",
       "      <td>0.581806</td>\n",
       "    </tr>\n",
       "    <tr>\n",
       "      <th>22</th>\n",
       "      <td>23</td>\n",
       "      <td>0.559800</td>\n",
       "    </tr>\n",
       "    <tr>\n",
       "      <th>30</th>\n",
       "      <td>31</td>\n",
       "      <td>0.550238</td>\n",
       "    </tr>\n",
       "    <tr>\n",
       "      <th>24</th>\n",
       "      <td>25</td>\n",
       "      <td>0.547917</td>\n",
       "    </tr>\n",
       "    <tr>\n",
       "      <th>2</th>\n",
       "      <td>3</td>\n",
       "      <td>0.539444</td>\n",
       "    </tr>\n",
       "  </tbody>\n",
       "</table>\n",
       "</div>"
      ],
      "text/plain": [
       "    DAY     USAGE\n",
       "1     2  0.581806\n",
       "22   23  0.559800\n",
       "30   31  0.550238\n",
       "24   25  0.547917\n",
       "2     3  0.539444"
      ]
     },
     "execution_count": 36,
     "metadata": {},
     "output_type": "execute_result"
    }
   ],
   "source": [
    "daily_mean_usage.sort_values(by='USAGE', ascending=False).head(5)"
   ]
  },
  {
   "cell_type": "code",
   "execution_count": 37,
   "id": "02871b2a",
   "metadata": {},
   "outputs": [
    {
     "data": {
      "text/html": [
       "<div>\n",
       "<style scoped>\n",
       "    .dataframe tbody tr th:only-of-type {\n",
       "        vertical-align: middle;\n",
       "    }\n",
       "\n",
       "    .dataframe tbody tr th {\n",
       "        vertical-align: top;\n",
       "    }\n",
       "\n",
       "    .dataframe thead th {\n",
       "        text-align: right;\n",
       "    }\n",
       "</style>\n",
       "<table border=\"1\" class=\"dataframe\">\n",
       "  <thead>\n",
       "    <tr style=\"text-align: right;\">\n",
       "      <th></th>\n",
       "      <th>DAY</th>\n",
       "      <th>USAGE</th>\n",
       "    </tr>\n",
       "  </thead>\n",
       "  <tbody>\n",
       "    <tr>\n",
       "      <th>10</th>\n",
       "      <td>11</td>\n",
       "      <td>0.394306</td>\n",
       "    </tr>\n",
       "    <tr>\n",
       "      <th>20</th>\n",
       "      <td>21</td>\n",
       "      <td>0.412708</td>\n",
       "    </tr>\n",
       "    <tr>\n",
       "      <th>13</th>\n",
       "      <td>14</td>\n",
       "      <td>0.420000</td>\n",
       "    </tr>\n",
       "    <tr>\n",
       "      <th>8</th>\n",
       "      <td>9</td>\n",
       "      <td>0.436806</td>\n",
       "    </tr>\n",
       "    <tr>\n",
       "      <th>28</th>\n",
       "      <td>29</td>\n",
       "      <td>0.440076</td>\n",
       "    </tr>\n",
       "  </tbody>\n",
       "</table>\n",
       "</div>"
      ],
      "text/plain": [
       "    DAY     USAGE\n",
       "10   11  0.394306\n",
       "20   21  0.412708\n",
       "13   14  0.420000\n",
       "8     9  0.436806\n",
       "28   29  0.440076"
      ]
     },
     "execution_count": 37,
     "metadata": {},
     "output_type": "execute_result"
    }
   ],
   "source": [
    "daily_mean_usage.sort_values(by='USAGE', ascending=True).head(5)"
   ]
  },
  {
   "cell_type": "markdown",
   "id": "34ca878b",
   "metadata": {},
   "source": [
    "Well, it is kinda hard to analyze the pattern. We need to extract more features. Let's start with extracting is_weekday"
   ]
  },
  {
   "cell_type": "code",
   "execution_count": null,
   "id": "20e7d9aa",
   "metadata": {},
   "outputs": [],
   "source": []
  }
 ],
 "metadata": {
  "kernelspec": {
   "display_name": "Python 3 (ipykernel)",
   "language": "python",
   "name": "python3"
  },
  "language_info": {
   "codemirror_mode": {
    "name": "ipython",
    "version": 3
   },
   "file_extension": ".py",
   "mimetype": "text/x-python",
   "name": "python",
   "nbconvert_exporter": "python",
   "pygments_lexer": "ipython3",
   "version": "3.9.12"
  }
 },
 "nbformat": 4,
 "nbformat_minor": 5
}
